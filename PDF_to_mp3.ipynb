{
 "cells": [
  {
   "cell_type": "code",
   "execution_count": 1,
   "metadata": {
    "id": "xkchF3CmIvQU"
   },
   "outputs": [
    {
     "name": "stdout",
     "output_type": "stream",
     "text": [
      "Collecting PyPDF2\n",
      "  Downloading PyPDF2-1.26.0.tar.gz (77 kB)\n",
      "Building wheels for collected packages: PyPDF2\n",
      "  Building wheel for PyPDF2 (setup.py): started\n",
      "  Building wheel for PyPDF2 (setup.py): finished with status 'done'\n",
      "  Created wheel for PyPDF2: filename=PyPDF2-1.26.0-py3-none-any.whl size=61085 sha256=a12d681955c97692d71c8187055280304606caf1df6ce6d57563f7b5e54fbc16\n",
      "  Stored in directory: c:\\users\\afsaneh salehi\\appdata\\local\\pip\\cache\\wheels\\b1\\1a\\8f\\a4c34be976825a2f7948d0fa40907598d69834f8ab5889de11\n",
      "Successfully built PyPDF2\n",
      "Installing collected packages: PyPDF2\n",
      "Successfully installed PyPDF2-1.26.0\n"
     ]
    }
   ],
   "source": [
    "!pip install PyPDF2"
   ]
  },
  {
   "cell_type": "code",
   "execution_count": 5,
   "metadata": {},
   "outputs": [
    {
     "name": "stdout",
     "output_type": "stream",
     "text": [
      "Collecting pyttsx3\n",
      "  Downloading pyttsx3-2.90-py3-none-any.whl (39 kB)\n",
      "Requirement already satisfied: comtypes in c:\\users\\afsaneh salehi\\anaconda3\\lib\\site-packages (from pyttsx3) (1.1.8)\n",
      "Requirement already satisfied: pywin32 in c:\\users\\afsaneh salehi\\anaconda3\\lib\\site-packages (from pyttsx3) (227)\n",
      "Collecting pypiwin32\n",
      "  Downloading pypiwin32-223-py3-none-any.whl (1.7 kB)\n",
      "Installing collected packages: pypiwin32, pyttsx3\n",
      "Successfully installed pypiwin32-223 pyttsx3-2.90\n"
     ]
    }
   ],
   "source": [
    "!pip install pyttsx3"
   ]
  },
  {
   "cell_type": "code",
   "execution_count": 6,
   "metadata": {
    "id": "9cIwhja8I6-Y"
   },
   "outputs": [
    {
     "name": "stderr",
     "output_type": "stream",
     "text": [
      "'sudo' is not recognized as an internal or external command,\n",
      "operable program or batch file.\n"
     ]
    }
   ],
   "source": [
    "!sudo apt-get update && sudo apt-get install espeak\n"
   ]
  },
  {
   "cell_type": "code",
   "execution_count": 7,
   "metadata": {
    "executionInfo": {
     "elapsed": 1995,
     "status": "ok",
     "timestamp": 1617527266949,
     "user": {
      "displayName": "Salehi A",
      "photoUrl": "https://lh3.googleusercontent.com/a-/AOh14Gg-lIJA3I0xSexFs_wijPSJjOkD3NtAdM2w-tNd=s64",
      "userId": "15603467488192314586"
     },
     "user_tz": -270
    },
    "id": "2DMTn2S8HNAc"
   },
   "outputs": [],
   "source": [
    "import PyPDF2\n",
    "pdfReader = PyPDF2.PdfFileReader(open('file.pdf', 'rb'))"
   ]
  },
  {
   "cell_type": "code",
   "execution_count": 8,
   "metadata": {
    "executionInfo": {
     "elapsed": 1141,
     "status": "ok",
     "timestamp": 1617528033018,
     "user": {
      "displayName": "Salehi A",
      "photoUrl": "https://lh3.googleusercontent.com/a-/AOh14Gg-lIJA3I0xSexFs_wijPSJjOkD3NtAdM2w-tNd=s64",
      "userId": "15603467488192314586"
     },
     "user_tz": -270
    },
    "id": "uaDswsOUIrv5"
   },
   "outputs": [],
   "source": [
    "import pyttsx3\n",
    "speaker = pyttsx3.init()"
   ]
  },
  {
   "cell_type": "code",
   "execution_count": 9,
   "metadata": {
    "executionInfo": {
     "elapsed": 1169,
     "status": "ok",
     "timestamp": 1617528037676,
     "user": {
      "displayName": "Salehi A",
      "photoUrl": "https://lh3.googleusercontent.com/a-/AOh14Gg-lIJA3I0xSexFs_wijPSJjOkD3NtAdM2w-tNd=s64",
      "userId": "15603467488192314586"
     },
     "user_tz": -270
    },
    "id": "h3ZrXJwxI5mJ"
   },
   "outputs": [],
   "source": [
    "for page_num in range(pdfReader.numPages):\n",
    "    text =  pdfReader.getPage(page_num).extractText()\n",
    "    speaker.say(text)\n",
    "    speaker.runAndWait()\n",
    "speaker.stop()"
   ]
  },
  {
   "cell_type": "code",
   "execution_count": 10,
   "metadata": {
    "executionInfo": {
     "elapsed": 1081,
     "status": "ok",
     "timestamp": 1617528390648,
     "user": {
      "displayName": "Salehi A",
      "photoUrl": "https://lh3.googleusercontent.com/a-/AOh14Gg-lIJA3I0xSexFs_wijPSJjOkD3NtAdM2w-tNd=s64",
      "userId": "15603467488192314586"
     },
     "user_tz": -270
    },
    "id": "X0nNlT1jJOqd"
   },
   "outputs": [],
   "source": [
    "speaker.save_to_file(text, 'audio.mp3')\n",
    "speaker.runAndWait()"
   ]
  },
  {
   "cell_type": "code",
   "execution_count": null,
   "metadata": {
    "id": "WwXtgsftNH9f"
   },
   "outputs": [],
   "source": []
  }
 ],
 "metadata": {
  "colab": {
   "authorship_tag": "ABX9TyPNsxXxiOPskEDMMtCkG1PW",
   "collapsed_sections": [],
   "name": "PDF_to_mp3.ipynb",
   "provenance": []
  },
  "kernelspec": {
   "display_name": "Python 3",
   "language": "python",
   "name": "python3"
  },
  "language_info": {
   "codemirror_mode": {
    "name": "ipython",
    "version": 3
   },
   "file_extension": ".py",
   "mimetype": "text/x-python",
   "name": "python",
   "nbconvert_exporter": "python",
   "pygments_lexer": "ipython3",
   "version": "3.8.3"
  }
 },
 "nbformat": 4,
 "nbformat_minor": 1
}
